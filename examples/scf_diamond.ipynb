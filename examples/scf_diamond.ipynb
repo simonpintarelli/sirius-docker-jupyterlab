{
 "cells": [
  {
   "cell_type": "code",
   "execution_count": null,
   "metadata": {},
   "outputs": [],
   "source": [
    "from sirius import DFT_ground_state_find\n",
    "from sirius.ot import ApplyHamiltonian"
   ]
  },
  {
   "cell_type": "code",
   "execution_count": null,
   "metadata": {},
   "outputs": [],
   "source": [
    "# perform a single SCF iteration\n",
    "res = DFT_ground_state_find(config='sirius.json', num_dft_iter=1)"
   ]
  },
  {
   "cell_type": "code",
   "execution_count": null,
   "metadata": {},
   "outputs": [],
   "source": [
    "# obtain the k-point set\n",
    "kset = res['kpointset']\n",
    "# Hamiltonian as operator\n",
    "H = ApplyHamiltonian(res['hamiltonian'], kset)\n",
    "\n",
    "# obtain the PW coefficients as vector\n",
    "X = kset.C\n",
    "# occupation numbers\n",
    "fn = kset.fn\n",
    "\n",
    "# compute ∇E(X)\n",
    "HX = H@X * fn"
   ]
  }
 ],
 "metadata": {
  "kernelspec": {
   "display_name": "Python 3",
   "language": "python",
   "name": "python3"
  },
  "language_info": {
   "codemirror_mode": {
    "name": "ipython",
    "version": 3
   },
   "file_extension": ".py",
   "mimetype": "text/x-python",
   "name": "python",
   "nbconvert_exporter": "python",
   "pygments_lexer": "ipython3",
   "version": "3.7.4"
  }
 },
 "nbformat": 4,
 "nbformat_minor": 4
}
