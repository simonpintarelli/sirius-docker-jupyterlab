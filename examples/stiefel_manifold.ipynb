{
 "cells": [
  {
   "cell_type": "code",
   "execution_count": null,
   "metadata": {},
   "outputs": [],
   "source": [
    "from sirius import DFT_ground_state_find\n",
    "from sirius.edft import FreeEnergy\n",
    "import sirius.baarman as st\n",
    "import sirius.ot as ot\n",
    "from numpy import linspace\n",
    "import matplotlib.pyplot as plt"
   ]
  },
  {
   "cell_type": "code",
   "execution_count": null,
   "metadata": {},
   "outputs": [],
   "source": [
    "def geodesic(X, Y, tau):\n",
    "    \"\"\"\n",
    "    Keyword Arguments:\n",
    "    X   -- intial point\n",
    "    Y   -- tangent vector\n",
    "    tau -- step size\n",
    "    \"\"\"\n",
    "    U, _ = st.stiefel_transport_operators(Y, X, tau)\n",
    "    return U@X\n",
    "\n",
    "\n",
    "def p(X, Y, tau, E):\n",
    "    \"\"\"\n",
    "    Compute energy along geodesic\n",
    "    Keyword Arguments:\n",
    "    X   -- initial point\n",
    "    Y   -- tangent vectors\n",
    "    tau -- step size\n",
    "    \"\"\"\n",
    "    return E(geodesic(X, Y, tau))"
   ]
  },
  {
   "cell_type": "code",
   "execution_count": null,
   "metadata": {},
   "outputs": [],
   "source": [
    "# run a single SCF iteration to initialize the system\n",
    "res = DFT_ground_state_find(1, config='sirius.json')\n",
    "# extract wrappers from C++\n",
    "density = res['density']\n",
    "potential = res['potential']\n",
    "hamiltonian = res['hamiltonian']\n",
    "kset = res['kpointset']\n",
    "\n",
    "# k-point weights\n",
    "kw = kset.w\n",
    "# Hamiltonian, provides gradient H|Ψ>\n",
    "H = ot.ApplyHamiltonian(hamiltonian, kset)\n",
    "# create object to compute the total energy\n",
    "E = ot.Energy(kset, potential, density,\n",
    "              ot.ApplyHamiltonian(hamiltonian, kset))\n",
    "# get PW coefficients from C++\n",
    "X = kset.C\n",
    "# get occupation numbers\n",
    "fn = kset.fn\n",
    "\n",
    "_, HX = E.compute(X)\n",
    "# ∇E(X)\n",
    "dAdC = HX*fn*kw\n",
    "# project gradient of the free energy to the Stiefel manifold\n",
    "Y = st.stiefel_project_tangent(-dAdC, X)\n",
    "# evaluate energy along geodesic\n",
    "ts = linspace(0, 1.5, 20)\n",
    "es = [p(X, Y, t, lambda X: E(X)) for t in ts]\n",
    "\n",
    "plt.plot(ts, es, '-x')\n",
    "plt.ylabel('Energy [Ha]')\n",
    "plt.xlabel(r'$\\tau$')\n",
    "plt.title(r'Energy along geodesic $X(\\tau)$')\n",
    "plt.show()"
   ]
  }
 ],
 "metadata": {
  "kernelspec": {
   "display_name": "Python 3",
   "language": "python",
   "name": "python3"
  },
  "language_info": {
   "codemirror_mode": {
    "name": "ipython",
    "version": 3
   },
   "file_extension": ".py",
   "mimetype": "text/x-python",
   "name": "python",
   "nbconvert_exporter": "python",
   "pygments_lexer": "ipython3",
   "version": "3.7.4"
  }
 },
 "nbformat": 4,
 "nbformat_minor": 4
}
